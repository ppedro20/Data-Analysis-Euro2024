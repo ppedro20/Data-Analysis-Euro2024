{
 "cells": [
  {
   "cell_type": "code",
   "execution_count": null,
   "id": "a9ea09fc",
   "metadata": {},
   "outputs": [],
   "source": [
    "#!pip install pandas numpy matplotlib statsbombpy"
   ]
  },
  {
   "cell_type": "code",
   "execution_count": null,
   "id": "55d4e735",
   "metadata": {},
   "outputs": [],
   "source": [
    "#imports\n",
    "import pandas as pd\n",
    "import numpy as np\n",
    "import matplotlib.pyplot as plt\n",
    "from statsbombpy import sb"
   ]
  },
  {
   "cell_type": "code",
   "execution_count": null,
   "id": "d19ead98",
   "metadata": {},
   "outputs": [],
   "source": [
    "from statsbombpy import sb\n",
    "\n",
    "# 1. Retrieve competition + season IDs for World Cup 2022\n",
    "comps = sb.competitions()\n",
    "wc = comps[(comps.competition_name == 'FIFA World Cup') & (comps.season_name == '2022')]\n",
    "print(wc[['competition_id','season_id']])\n",
    "# Expected: competition_id = 43, season_id = 106\n",
    "\n",
    "# 2. List all World Cup 2022 matches\n",
    "matches = sb.matches(competition_id=43, season_id=106)\n",
    "\n",
    "# 3. Filter for the final between Argentina (home) and France (away)\n",
    "final = matches[(matches.home_team == 'Argentina') & (matches.away_team == 'France')]\n",
    "print(final[['match_id','match_date','competition_stage']])\n"
   ]
  },
  {
   "cell_type": "markdown",
   "id": "ce8d0837",
   "metadata": {},
   "source": [
    "Prepare the data"
   ]
  },
  {
   "cell_type": "code",
   "execution_count": null,
   "id": "06cc6099",
   "metadata": {},
   "outputs": [],
   "source": [
    "#load event data\n",
    "events = sb.events(match_id = 3869685)\n",
    "\n",
    "# Extract Pass Events\n",
    "passes = events[events['type'] == 'Pass']\n",
    "\n",
    "# Clean pass data \n",
    "passes_df = passes[['team', 'player', 'location', 'pass_end_location', 'minute']].copy()\n",
    "\n",
    "# Drop rows with missing or invalid locations\n",
    "mask = (\n",
    "    passes_df['location'].apply(lambda x: isinstance(x, list) and len(x) == 2) &\n",
    "    passes_df['pass_end_location'].apply(lambda x: isinstance(x, list) and len(x) == 2)\n",
    ")\n",
    "passes_df = passes_df[mask].reset_index(drop=True)\n",
    "\n",
    "# Split location columns\n",
    "loc_df = pd.DataFrame(passes_df['location'].tolist(), columns=['x_start', 'y_start'])\n",
    "end_loc_df = pd.DataFrame(passes_df['pass_end_location'].tolist(), columns=['x_end', 'y_end'])\n",
    "passes_df = pd.concat([passes_df, loc_df, end_loc_df], axis=1)\n",
    "passes_df.drop(['location', 'pass_end_location'], axis=1, inplace=True)\n",
    "\n",
    "# Save to CSV\n",
    "passes_df.to_csv('../data/passes.csv', index=False)\n",
    "\n",
    "# Extract Ball Touches (for heatmaps)\n",
    "touches = events[['team', 'player', 'location', 'minute']]\n",
    "touches = touches[touches['location'].apply(lambda x: isinstance(x, list) and len(x) == 2)]\n",
    "touches[['x', 'y']] = pd.DataFrame(touches['location'].tolist(), index=touches.index)\n",
    "touches.drop(['location'], axis=1, inplace=True)\n",
    "touches.to_csv('../data/touches.csv', index=False)\n"
   ]
  }
 ],
 "metadata": {
  "kernelspec": {
   "display_name": "Python 3",
   "language": "python",
   "name": "python3"
  },
  "language_info": {
   "codemirror_mode": {
    "name": "ipython",
    "version": 3
   },
   "file_extension": ".py",
   "mimetype": "text/x-python",
   "name": "python",
   "nbconvert_exporter": "python",
   "pygments_lexer": "ipython3",
   "version": "3.10.11"
  }
 },
 "nbformat": 4,
 "nbformat_minor": 5
}
